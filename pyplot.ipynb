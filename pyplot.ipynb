{
 "cells": [
  {
   "cell_type": "markdown",
   "id": "d9a58342-520a-4007-8532-aeb672973848",
   "metadata": {},
   "source": [
    "# The matplotlib.pyplot Python package\n",
    "\n",
    "[Official Documentation](https://matplotlib.org/stable/api/_as_gen/matplotlib.pyplot.html)\n",
    "\n",
    "***"
   ]
  },
  {
   "cell_type": "code",
   "execution_count": 1,
   "id": "22952697-d545-41ae-b6c4-8b1bb70e4890",
   "metadata": {},
   "outputs": [],
   "source": [
    "# Efficient numerical arrays\n",
    "import numpy as np\n",
    "\n",
    "#Plotting\n",
    "import matplotlib.pyplot as plt\n",
    "\n",
    "#Pandas dataframe\n",
    "import pandas as pd"
   ]
  },
  {
   "cell_type": "code",
   "execution_count": 2,
   "id": "3f7b21dc-6e81-4e9a-8851-10d6181ce8b6",
   "metadata": {},
   "outputs": [],
   "source": [
    "# Change default style sheet\n",
    "plt.style.use('fivethirtyeight')\n",
    "\n",
    "# Change the default parameters\n",
    "plt.rcParams['figure.figsize'] = [10, 5]"
   ]
  },
  {
   "cell_type": "markdown",
   "id": "cf9a2b75-9902-42db-a4e9-44e0474e97b3",
   "metadata": {},
   "source": [
    "### What is Matplotlib?\n",
    "- Matplotlib is a graph plotting library in python that serves as a visualization utility[01].\n",
    "\n",
    "- Matplotlib was created by John D. Hunter.[01]\n",
    "\n",
    "- Matplotlib is open source.[01]\n",
    "\n",
    "- Matplotlib is mostly written in python. There are a few segments written in C, Objective-C and Javascript for Platform compatibility.[01]"
   ]
  },
  {
   "cell_type": "markdown",
   "id": "fc835442-c8ea-4062-a0ae-efa29791a7d1",
   "metadata": {},
   "source": [
    "<br>\n",
    "\n",
    "## numpy.random.normal\n",
    "https://numpy.org/doc/stable/reference/random/generated/numpy.random.normal.html"
   ]
  },
  {
   "cell_type": "code",
   "execution_count": 3,
   "id": "5dc8e0d0-0957-423c-917a-f03dee1fefb9",
   "metadata": {},
   "outputs": [],
   "source": [
    "mu, sigma = 0, 0.1 # mean and standard deviation\n",
    "s = np.random.normal(mu, sigma, 1000)"
   ]
  },
  {
   "cell_type": "code",
   "execution_count": 4,
   "id": "60cc70cc-efad-4741-9f25-9ca7f7ac77b7",
   "metadata": {
    "tags": []
   },
   "outputs": [
    {
     "data": {
      "text/plain": [
       "array([-0.20223181,  0.00191245, -0.04995204,  0.14516882, -0.15853189,\n",
       "       -0.14195306,  0.06081487, -0.1447962 , -0.21606991,  0.10351566])"
      ]
     },
     "execution_count": 4,
     "metadata": {},
     "output_type": "execute_result"
    }
   ],
   "source": [
    "# First 10 items\n",
    "s[:10]"
   ]
  },
  {
   "cell_type": "code",
   "execution_count": 5,
   "id": "863a5027-1d6a-40a7-bf6d-67420a571380",
   "metadata": {},
   "outputs": [
    {
     "data": {
      "text/plain": [
       "0.0"
      ]
     },
     "execution_count": 5,
     "metadata": {},
     "output_type": "execute_result"
    }
   ],
   "source": [
    "abs(mu - np.mean(s))\n",
    "0.0  # may vary"
   ]
  },
  {
   "cell_type": "code",
   "execution_count": 6,
   "id": "405112db-68d3-49db-a623-52661a8cc96d",
   "metadata": {},
   "outputs": [
    {
     "data": {
      "text/plain": [
       "0.1"
      ]
     },
     "execution_count": 6,
     "metadata": {},
     "output_type": "execute_result"
    }
   ],
   "source": [
    "abs(sigma - np.std(s, ddof=1))\n",
    "0.1  # may vary"
   ]
  },
  {
   "cell_type": "code",
   "execution_count": 7,
   "id": "5ae5fd18-0680-407e-b9be-12f7734fa76f",
   "metadata": {},
   "outputs": [
    {
     "data": {
      "image/png": "[encoded data removed]",
      "text/plain": [
       "<Figure size 720x360 with 1 Axes>"
      ]
     },
     "metadata": {},
     "output_type": "display_data"
    }
   ],
   "source": [
    "count, bins, ignored = plt.hist(s, 30, density = True)\n",
    "f = 1/(sigma * np.sqrt(2 * np.pi)) * np.exp(-(bins - mu)**2 / (2 * sigma**2))\n",
    "plt.plot(bins, f, linewidth=2)\n",
    "plt.show()"
   ]
  },
  {
   "cell_type": "markdown",
   "id": "48603027-38dc-4722-92d8-eacb687dc5d1",
   "metadata": {},
   "source": [
    "## References\n",
    "[01] [W3 Schools Matplotlib Tutorial](https://www.w3schools.com/python/matplotlib_intro.asp)"
   ]
  },
  {
   "cell_type": "markdown",
   "id": "b929c544-63ea-41a6-b277-0f6f582003dc",
   "metadata": {},
   "source": [
    "## Links to come back to\n",
    "- https://stackoverflow.com/questions/36367986/how-to-make-inline-plots-in-jupyter-notebook-larger\n",
    "- https://matplotlib.org/stable/gallery/style_sheets/style_sheets_reference.html\n",
    "- https://matplotlib.org/stable/tutorials/introductory/customizing.html"
   ]
  },
  {
   "cell_type": "markdown",
   "id": "680b07d4-e244-4f8d-b3f6-342d697b2d44",
   "metadata": {},
   "source": [
    "***\n",
    "## End"
   ]
  }
 ],
 "metadata": {
  "kernelspec": {
   "display_name": "Python 3",
   "language": "python",
   "name": "python3"
  },
  "language_info": {
   "codemirror_mode": {
    "name": "ipython",
    "version": 3
   },
   "file_extension": ".py",
   "mimetype": "text/x-python",
   "name": "python",
   "nbconvert_exporter": "python",
   "pygments_lexer": "ipython3",
   "version": "3.8.8"
  }
 },
 "nbformat": 4,
 "nbformat_minor": 5
}
