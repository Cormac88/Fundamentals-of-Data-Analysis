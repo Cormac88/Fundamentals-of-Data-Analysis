{
 "cells": [
  {
   "cell_type": "markdown",
   "id": "d9a58342-520a-4007-8532-aeb672973848",
   "metadata": {},
   "source": [
    "# This is the largest heading\n",
    "## This is the second largest heading\n",
    "###### This is the smallest heading"
   ]
  },
  {
   "cell_type": "markdown",
   "id": "6fb1e2f5-eb96-4ad2-aba6-c782be348d06",
   "metadata": {},
   "source": [
    "**This is Bold**<br />\n",
    "*This is italic*<br />\n",
    "~This is Strikethrough text~<br />"
   ]
  },
  {
   "cell_type": "markdown",
   "id": "ca6c8a30-ef7f-4484-a8fa-c5caa1184e17",
   "metadata": {},
   "source": [
    "Here is a list\n",
    "- One\n",
    "- Two\n",
    "- Three\n",
    "- Four"
   ]
  },
  {
   "cell_type": "code",
   "execution_count": 1,
   "id": "e1dab6f1-933c-4dd9-a810-c2b58378f5d5",
   "metadata": {},
   "outputs": [],
   "source": [
    "i = 5\n",
    "j = 7"
   ]
  },
  {
   "cell_type": "code",
   "execution_count": 2,
   "id": "f9784514-bdbf-485a-b05f-e5a5675c3325",
   "metadata": {},
   "outputs": [],
   "source": [
    "k = i + j"
   ]
  },
  {
   "cell_type": "code",
   "execution_count": 3,
   "id": "cf1eaaf8-8bbb-44e8-8768-12427a6c23a3",
   "metadata": {},
   "outputs": [
    {
     "data": {
      "text/plain": [
       "12"
      ]
     },
     "execution_count": 3,
     "metadata": {},
     "output_type": "execute_result"
    }
   ],
   "source": [
    "k"
   ]
  },
  {
   "cell_type": "markdown",
   "id": "48603027-38dc-4722-92d8-eacb687dc5d1",
   "metadata": {},
   "source": [
    "Here is a cat because I am more of a cat person!<br />\n",
    "![](https://www.catster.com/wp-content/uploads/2015/06/tiny-birman-cat1.jpg)"
   ]
  },
  {
   "cell_type": "code",
   "execution_count": null,
   "id": "d0bdd370-ed56-4012-954f-aeadcf6d6d5f",
   "metadata": {},
   "outputs": [],
   "source": []
  }
 ],
 "metadata": {
  "kernelspec": {
   "display_name": "Python 3",
   "language": "python",
   "name": "python3"
  },
  "language_info": {
   "codemirror_mode": {
    "name": "ipython",
    "version": 3
   },
   "file_extension": ".py",
   "mimetype": "text/x-python",
   "name": "python",
   "nbconvert_exporter": "python",
   "pygments_lexer": "ipython3",
   "version": "3.8.8"
  }
 },
 "nbformat": 4,
 "nbformat_minor": 5
}
